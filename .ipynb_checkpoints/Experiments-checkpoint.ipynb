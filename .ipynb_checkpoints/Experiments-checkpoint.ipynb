{
 "cells": [
  {
   "cell_type": "code",
   "execution_count": 1,
   "id": "3517f01e",
   "metadata": {},
   "outputs": [
    {
     "data": {
      "image/png": "[encoded data removed]",
      "text/plain": [
       "<Figure size 432x288 with 1 Axes>"
      ]
     },
     "metadata": {
      "needs_background": "light"
     },
     "output_type": "display_data"
    }
   ],
   "source": [
    "\"\"\"\n",
    "==================\n",
    "Animated histogram\n",
    "==================\n",
    "\n",
    "Use a path patch to draw a bunch of rectangles for an animated histogram.\n",
    "\"\"\"\n",
    "%matplotlib inline\n",
    "import numpy as np\n",
    "\n",
    "import matplotlib.pyplot as plt\n",
    "import matplotlib.patches as patches\n",
    "import matplotlib.path as path\n",
    "import matplotlib.animation as animation\n",
    "from IPython.display import HTML\n",
    "\n",
    "# Fixing random state for reproducibility\n",
    "np.random.seed(19680801)\n",
    "\n",
    "# histogram our data with numpy\n",
    "data = np.random.randn(1000)\n",
    "n, bins = np.histogram(data, 100)\n",
    "\n",
    "# get the corners of the rectangles for the histogram\n",
    "left = np.array(bins[:-1])\n",
    "right = np.array(bins[1:])\n",
    "bottom = np.zeros(len(left))\n",
    "top = bottom + n\n",
    "nrects = len(left)\n",
    "\n",
    "###############################################################################\n",
    "# Here comes the tricky part -- we have to set up the vertex and path codes\n",
    "# arrays using ``plt.Path.MOVETO``, ``plt.Path.LINETO`` and\n",
    "# ``plt.Path.CLOSEPOLY`` for each rect.\n",
    "#\n",
    "# * We need 1 ``MOVETO`` per rectangle, which sets the initial point.\n",
    "# * We need 3 ``LINETO``'s, which tell Matplotlib to draw lines from\n",
    "#   vertex 1 to vertex 2, v2 to v3, and v3 to v4.\n",
    "# * We then need one ``CLOSEPOLY`` which tells Matplotlib to draw a line from\n",
    "#   the v4 to our initial vertex (the ``MOVETO`` vertex), in order to close the\n",
    "#   polygon.\n",
    "#\n",
    "# .. note::\n",
    "#\n",
    "#   The vertex for ``CLOSEPOLY`` is ignored, but we still need a placeholder\n",
    "#   in the ``verts`` array to keep the codes aligned with the vertices.\n",
    "nverts = nrects * (1 + 3 + 1)\n",
    "verts = np.zeros((nverts, 2))\n",
    "codes = np.ones(nverts, int) * path.Path.LINETO\n",
    "codes[0::5] = path.Path.MOVETO\n",
    "codes[4::5] = path.Path.CLOSEPOLY\n",
    "verts[0::5, 0] = left\n",
    "verts[0::5, 1] = bottom\n",
    "verts[1::5, 0] = left\n",
    "verts[1::5, 1] = top\n",
    "verts[2::5, 0] = right\n",
    "verts[2::5, 1] = top\n",
    "verts[3::5, 0] = right\n",
    "verts[3::5, 1] = bottom\n",
    "\n",
    "###############################################################################\n",
    "# To animate the histogram, we need an ``animate`` function, which generates\n",
    "# a random set of numbers and updates the locations of the vertices for the\n",
    "# histogram (in this case, only the heights of each rectangle). ``patch`` will\n",
    "# eventually be a ``Patch`` object.\n",
    "patch = None\n",
    "\n",
    "\n",
    "def animate(i):\n",
    "    # simulate new data coming in\n",
    "    data = np.random.randn(1000)\n",
    "    n, bins = np.histogram(data, 100)\n",
    "    top = bottom + n\n",
    "    verts[1::5, 1] = top\n",
    "    verts[2::5, 1] = top\n",
    "    return [patch, ]\n",
    "\n",
    "###############################################################################\n",
    "# And now we build the `Path` and `Patch` instances for the histogram using\n",
    "# our vertices and codes. We add the patch to the `Axes` instance, and setup\n",
    "# the `FuncAnimation` with our animate function.\n",
    "fig, ax = plt.subplots()\n",
    "barpath = path.Path(verts, codes)\n",
    "patch = patches.PathPatch(\n",
    "    barpath, facecolor='green', edgecolor='yellow', alpha=0.5)\n",
    "ax.add_patch(patch)\n",
    "\n",
    "ax.set_xlim(left[0], right[-1])\n",
    "ax.set_ylim(bottom.min(), top.max())\n",
    "\n",
    "ani = animation.FuncAnimation(fig, animate, 100, repeat=False, blit=True)\n",
    "plt.show()"
   ]
  },
  {
   "cell_type": "code",
   "execution_count": 2,
   "id": "7ac27bee",
   "metadata": {},
   "outputs": [],
   "source": [
    "%%capture\n",
    "%matplotlib inline\n",
    "import matplotlib.pyplot as plt\n",
    "import matplotlib.animation\n",
    "plt.rcParams[\"animation.html\"] = \"jshtml\"\n",
    "import numpy as np\n",
    "\n",
    "t = np.linspace(0,2*np.pi)\n",
    "x = np.sin(t)\n",
    "\n",
    "fig, ax = plt.subplots()\n",
    "h = ax.axis([0,2*np.pi,-1,1])\n",
    "l, = ax.plot([],[])\n",
    "\n",
    "def animate(i):\n",
    "    l.set_data(t[:i], x[:i])\n",
    "\n",
    "ani = matplotlib.animation.FuncAnimation(fig, animate, frames=len(t))"
   ]
  },
  {
   "cell_type": "markdown",
   "id": "68057528",
   "metadata": {},
   "source": [
    "## Provide Means to Share LaneLine Objects with Pipeline Function"
   ]
  },
  {
   "cell_type": "code",
   "execution_count": 3,
   "id": "98017c13",
   "metadata": {},
   "outputs": [],
   "source": [
    "def proc_vid(op, args):\n",
    "    print(\"In proc_vid, calling op with result: \", op(*args))"
   ]
  },
  {
   "cell_type": "code",
   "execution_count": 4,
   "id": "9f13e8f3",
   "metadata": {},
   "outputs": [],
   "source": [
    "class history:\n",
    "    def __init__(self):\n",
    "        self.hist = \"Blue Cheese\""
   ]
  },
  {
   "cell_type": "code",
   "execution_count": 5,
   "id": "a07c4ded",
   "metadata": {},
   "outputs": [],
   "source": [
    "class pipeline:\n",
    "    def __init__(self):\n",
    "        self.left = history()\n",
    "        self.right = history()\n",
    "    \n",
    "    def __call__(self,x):\n",
    "        print(self.left.hist)\n",
    "        print(self.right.hist)\n",
    "        return x*2"
   ]
  },
  {
   "cell_type": "code",
   "execution_count": 6,
   "id": "711791e8",
   "metadata": {},
   "outputs": [
    {
     "name": "stdout",
     "output_type": "stream",
     "text": [
      "Blue Cheese\n",
      "Blue Cheese\n",
      "In proc_vid, calling op with result:  6\n"
     ]
    }
   ],
   "source": [
    "pl = pipeline()\n",
    "proc_vid(pl, [3])"
   ]
  },
  {
   "cell_type": "markdown",
   "id": "3143f97a",
   "metadata": {},
   "source": [
    "## Binding Functions to a Class"
   ]
  },
  {
   "cell_type": "code",
   "execution_count": 7,
   "id": "534ef7d5",
   "metadata": {},
   "outputs": [
    {
     "name": "stdout",
     "output_type": "stream",
     "text": [
      "Greg is running...\n"
     ]
    }
   ],
   "source": [
    "def run(self):\n",
    "    print( self.name, \"is running...\")\n",
    "    \n",
    "class Act:\n",
    "    def __init__(self, name=\"Anon\"):\n",
    "        self.name = name\n",
    "\n",
    "a = Act(\"Greg\")\n",
    "\n",
    "Act.run = run\n",
    "\n",
    "a.run()\n"
   ]
  },
  {
   "cell_type": "markdown",
   "id": "3cb8e7de",
   "metadata": {},
   "source": [
    "## Calling a free function from a class method"
   ]
  },
  {
   "cell_type": "code",
   "execution_count": 8,
   "id": "89898391",
   "metadata": {},
   "outputs": [
    {
     "name": "stdout",
     "output_type": "stream",
     "text": [
      "Greg is running...\n"
     ]
    }
   ],
   "source": [
    "def run(name='Greg'):\n",
    "    print( name, \"is running...\")\n",
    "    \n",
    "class Act:\n",
    "    def __init__(self, name=\"Anon\"):\n",
    "        self.name = name\n",
    "        \n",
    "    def __call__(self):\n",
    "        run()\n",
    "        \n",
    "a = Act()\n",
    "a()"
   ]
  },
  {
   "cell_type": "markdown",
   "id": "9185af45",
   "metadata": {},
   "source": [
    "## BiDict\n",
    "Ways to use a bi-directional dictionary"
   ]
  },
  {
   "cell_type": "code",
   "execution_count": 9,
   "id": "0ed7bdc4",
   "metadata": {},
   "outputs": [],
   "source": [
    "from bidict import bidict"
   ]
  },
  {
   "cell_type": "code",
   "execution_count": 10,
   "id": "f1d77779",
   "metadata": {},
   "outputs": [
    {
     "data": {
      "text/plain": [
       "bidict({'A': 1, 'B': 2, 'C': 3, 'D': 4})"
      ]
     },
     "execution_count": 10,
     "metadata": {},
     "output_type": "execute_result"
    }
   ],
   "source": [
    "e = bidict({'A': 1, 'B': 2, 'C': 3, 'D': 4})\n",
    "e"
   ]
  },
  {
   "cell_type": "code",
   "execution_count": 11,
   "id": "4a58aa95",
   "metadata": {},
   "outputs": [
    {
     "data": {
      "text/plain": [
       "1"
      ]
     },
     "execution_count": 11,
     "metadata": {},
     "output_type": "execute_result"
    }
   ],
   "source": [
    "e['A']"
   ]
  },
  {
   "cell_type": "code",
   "execution_count": 12,
   "id": "937d8ccc",
   "metadata": {},
   "outputs": [
    {
     "data": {
      "text/plain": [
       "'D'"
      ]
     },
     "execution_count": 12,
     "metadata": {},
     "output_type": "execute_result"
    }
   ],
   "source": [
    "e.inverse[4]"
   ]
  },
  {
   "cell_type": "code",
   "execution_count": 13,
   "id": "722e5b00",
   "metadata": {},
   "outputs": [
    {
     "data": {
      "text/plain": [
       "dict_keys(['A', 'B', 'C', 'D'])"
      ]
     },
     "execution_count": 13,
     "metadata": {},
     "output_type": "execute_result"
    }
   ],
   "source": [
    "e.keys()"
   ]
  },
  {
   "cell_type": "code",
   "execution_count": 14,
   "id": "6dee1bc4",
   "metadata": {},
   "outputs": [
    {
     "data": {
      "text/plain": [
       "dict_keys([1, 2, 3, 4])"
      ]
     },
     "execution_count": 14,
     "metadata": {},
     "output_type": "execute_result"
    }
   ],
   "source": [
    "e.values()"
   ]
  },
  {
   "cell_type": "code",
   "execution_count": 15,
   "id": "bdc5b7f9",
   "metadata": {},
   "outputs": [
    {
     "data": {
      "text/plain": [
       "dict_keys([1, 2, 3, 4])"
      ]
     },
     "execution_count": 15,
     "metadata": {},
     "output_type": "execute_result"
    }
   ],
   "source": [
    "e._update_no_dup_check({'E': 1})\n",
    "e.values()"
   ]
  },
  {
   "cell_type": "markdown",
   "id": "2269c8e2",
   "metadata": {},
   "source": [
    "## Verify an Instance Passed Via \\__call\\__ Method Has Access to Other Methods"
   ]
  },
  {
   "cell_type": "code",
   "execution_count": 16,
   "id": "d81d1619",
   "metadata": {},
   "outputs": [],
   "source": [
    "from random import uniform"
   ]
  },
  {
   "cell_type": "code",
   "execution_count": 17,
   "id": "78fa6b91",
   "metadata": {},
   "outputs": [],
   "source": [
    "def first_func(x, history=None):\n",
    "    print(\"first_func called with: \", x)\n",
    "    if history is not None:\n",
    "        history.coeff(x)\n",
    "        print(\"   history.coeff= \", history.coeff())\n",
    "        return history.coeff()\n",
    "    else:\n",
    "        return \"No history\"\n",
    "    \n",
    "    \n",
    "def second_func(history=None):\n",
    "    print(\"second_func called\")"
   ]
  },
  {
   "cell_type": "code",
   "execution_count": 18,
   "id": "be9a9d9d",
   "metadata": {},
   "outputs": [],
   "source": [
    "def calling_func(func):\n",
    "    return func(uniform(-10.0, 10.0))"
   ]
  },
  {
   "cell_type": "code",
   "execution_count": 19,
   "id": "6f3ab87e",
   "metadata": {},
   "outputs": [],
   "source": [
    "class History:\n",
    "    def __init__(self):\n",
    "        self._coeff = [0.0]\n",
    "        \n",
    "    def coeff(self, val=None):\n",
    "        if val is None:\n",
    "            return self._coeff\n",
    "        else:\n",
    "            self._coeff.append(val)"
   ]
  },
  {
   "cell_type": "code",
   "execution_count": 20,
   "id": "f48e4fe0",
   "metadata": {},
   "outputs": [],
   "source": [
    "h = History()\n",
    "h.coeff(1.0)"
   ]
  },
  {
   "cell_type": "code",
   "execution_count": 21,
   "id": "266a6bad",
   "metadata": {},
   "outputs": [],
   "source": [
    "class CallableClass:\n",
    "    def __init__(self):\n",
    "        self.hasHistory = True\n",
    "        self.history = History()\n",
    "    \n",
    "    def __call__(self, arg):\n",
    "        return first_func(arg, self.history)"
   ]
  },
  {
   "cell_type": "code",
   "execution_count": 22,
   "id": "8ec02c63",
   "metadata": {},
   "outputs": [],
   "source": [
    "myInstance = CallableClass()"
   ]
  },
  {
   "cell_type": "code",
   "execution_count": 25,
   "id": "5fa15025",
   "metadata": {},
   "outputs": [
    {
     "name": "stdout",
     "output_type": "stream",
     "text": [
      "first_func called with:  -3.7313957698880573\n",
      "   history.coeff=  [0.0, 7.622941482779911, -3.7313957698880573]\n"
     ]
    },
    {
     "data": {
      "text/plain": [
       "[0.0, 7.622941482779911, -3.7313957698880573]"
      ]
     },
     "execution_count": 25,
     "metadata": {},
     "output_type": "execute_result"
    }
   ],
   "source": [
    "calling_func(myInstance)"
   ]
  },
  {
   "cell_type": "code",
   "execution_count": 26,
   "id": "c0807ca0",
   "metadata": {},
   "outputs": [
    {
     "data": {
      "text/plain": [
       "[0.0, 7.622941482779911, -3.7313957698880573]"
      ]
     },
     "execution_count": 26,
     "metadata": {},
     "output_type": "execute_result"
    }
   ],
   "source": [
    "myInstance.history.coeff()"
   ]
  },
  {
   "cell_type": "markdown",
   "id": "2dfce438",
   "metadata": {},
   "source": [
    "## Run jupyter nbconvert in pre-commit script"
   ]
  },
  {
   "cell_type": "code",
   "execution_count": 3,
   "id": "b0e2c46c",
   "metadata": {},
   "outputs": [
    {
     "name": "stdout",
     "output_type": "stream",
     "text": [
      "git add the following files:  set()\n"
     ]
    }
   ],
   "source": [
    "import sys, os, re\n",
    "from subprocess import check_output\n",
    "\n",
    "# Get a list of jupyter notebooks which have been staged for commit \n",
    "\n",
    "#changed_files = check_output(['git', 'diff', '--cached', '--name-only'])\n",
    "changed_files = check_output(['git', 'diff', '--cached', '--stat'])\n",
    "changed_files = changed_files.decode(\"utf-8\").split(\"\\n\")  #split bytes on newlines\n",
    "changed_files = list(filter(None, changed_files)) #drop empty items\n",
    "\n",
    "r = re.compile(r\".*\\.ipynb$\")  #regex to match jupyter notebook files\n",
    "\n",
    "changed_files = list(filter(r.match, changed_files))\n",
    "\n",
    "changed_files = set(changed_files)\n",
    "for f in changed_files:\n",
    "    print(f)\n",
    "  \n",
    "#This section uses 'git ls-files' as an alternate method of finding changed files\n",
    "\"\"\"\n",
    "added_files = check_output(['git', 'ls-files', '--modified', '--deleted', '*.ipynb'])\n",
    "added_files = added_files.decode(\"utf-8\").split(\"\\n\")\n",
    "added_files = list(filter(None, added_files))\n",
    "added_files = set(added_files)\n",
    "print(\"Added files: \", added_files)\n",
    "\"\"\"\n",
    "#nb_files = added_files.intersection(changed_files)\n",
    "nb_files = changed_files\n",
    "\n",
    "#print(\"Files = \", nb_files)\n",
    "\n",
    "# For each notebook, run \"jupyter nbconvert --to python <notebook name>\"\n",
    "for f in nb_files:\n",
    "    results = check_output(['jupyter', 'nbconvert', '--to', 'python', f])\n",
    "    \n",
    "# Make a set of files names for the python scripts just created by nbconvert\n",
    "py_files = set()\n",
    "for f in nb_files:\n",
    "    py_files.add(f[:-5]+'py')\n",
    "    \n",
    "print(\"git add the following files: \", py_files)\n",
    "\n",
    "# Run \"git add <notebookname>.py for each notebook converted\n",
    "for f in py_files:\n",
    "    results = check_output(['git', 'add', f])"
   ]
  },
  {
   "cell_type": "code",
   "execution_count": 2,
   "id": "eb644e4d",
   "metadata": {},
   "outputs": [
    {
     "name": "stdout",
     "output_type": "stream",
     "text": [
      "['a.ipynb', 'b.ipynb']\n"
     ]
    }
   ],
   "source": [
    "import re\n",
    "files = ['a.ipynb', 'a.py', 'b.ipynb', 'b.py', '.git']\n",
    "r = re.compile(r'.*\\.ipynb$')\n",
    "files = list(filter(r.match, files))\n",
    "print(files)"
   ]
  },
  {
   "cell_type": "code",
   "execution_count": null,
   "id": "700bc36f",
   "metadata": {},
   "outputs": [],
   "source": []
  }
 ],
 "metadata": {
  "kernelspec": {
   "display_name": "Python 3 (ipykernel)",
   "language": "python",
   "name": "python3"
  },
  "language_info": {
   "codemirror_mode": {
    "name": "ipython",
    "version": 3
   },
   "file_extension": ".py",
   "mimetype": "text/x-python",
   "name": "python",
   "nbconvert_exporter": "python",
   "pygments_lexer": "ipython3",
   "version": "3.9.7"
  }
 },
 "nbformat": 4,
 "nbformat_minor": 5
}
